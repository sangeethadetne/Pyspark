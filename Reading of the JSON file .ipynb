{
 "cells": [
  {
   "cell_type": "code",
   "execution_count": 1,
   "metadata": {},
   "outputs": [],
   "source": [
    "from pyspark.sql import SparkSession"
   ]
  },
  {
   "cell_type": "code",
   "execution_count": 4,
   "metadata": {},
   "outputs": [],
   "source": [
    "spark = SparkSession.builder.getOrCreate()"
   ]
  },
  {
   "cell_type": "code",
   "execution_count": 5,
   "metadata": {},
   "outputs": [],
   "source": [
    "data_path = \"/Users/sangeethadetne/Desktop/BigData/SampleData/\""
   ]
  },
  {
   "cell_type": "code",
   "execution_count": 6,
   "metadata": {},
   "outputs": [],
   "source": [
    "file_path = data_path + \"Musical_Instruments.json\""
   ]
  },
  {
   "cell_type": "code",
   "execution_count": 7,
   "metadata": {},
   "outputs": [],
   "source": [
    "df = spark.read.format(\"json\").load(file_path)"
   ]
  },
  {
   "cell_type": "code",
   "execution_count": 11,
   "metadata": {},
   "outputs": [
    {
     "name": "stdout",
     "output_type": "stream",
     "text": [
      "+----------+--------+-------+--------------------+-----------+--------------+--------------------+--------------------+--------------+\n",
      "|      asin| helpful|overall|          reviewText| reviewTime|    reviewerID|        reviewerName|             summary|unixReviewTime|\n",
      "+----------+--------+-------+--------------------+-----------+--------------+--------------------+--------------------+--------------+\n",
      "|1384719342|  [0, 0]|    5.0|Not much to write...|02 28, 2014|A2IBPI20UZIR0U|cassandra tu \"Yea...|                good|    1393545600|\n",
      "|1384719342|[13, 14]|    5.0|The product does ...|03 16, 2013|A14VAT5EAX3D9S|                Jake|                Jake|    1363392000|\n",
      "|1384719342|  [1, 1]|    5.0|The primary job o...|08 28, 2013|A195EZSQDW3E21|Rick Bennette \"Ri...|It Does The Job Well|    1377648000|\n",
      "|1384719342|  [0, 0]|    5.0|Nice windscreen p...|02 14, 2014|A2C00NNG1ZQQG2|RustyBill \"Sunday...|GOOD WINDSCREEN F...|    1392336000|\n",
      "|1384719342|  [0, 0]|    5.0|This pop filter i...|02 21, 2014| A94QU4C90B1AX|       SEAN MASLANKA|No more pops when...|    1392940800|\n",
      "+----------+--------+-------+--------------------+-----------+--------------+--------------------+--------------------+--------------+\n",
      "only showing top 5 rows\n",
      "\n"
     ]
    }
   ],
   "source": [
    "df.show(5)"
   ]
  },
  {
   "cell_type": "code",
   "execution_count": 12,
   "metadata": {},
   "outputs": [
    {
     "data": {
      "text/plain": [
       "['asin',\n",
       " 'helpful',\n",
       " 'overall',\n",
       " 'reviewText',\n",
       " 'reviewTime',\n",
       " 'reviewerID',\n",
       " 'reviewerName',\n",
       " 'summary',\n",
       " 'unixReviewTime']"
      ]
     },
     "execution_count": 12,
     "metadata": {},
     "output_type": "execute_result"
    }
   ],
   "source": [
    "df.columns"
   ]
  },
  {
   "cell_type": "code",
   "execution_count": 13,
   "metadata": {},
   "outputs": [],
   "source": [
    "df_sample = df.sample(False, fraction = 0.1)"
   ]
  },
  {
   "cell_type": "code",
   "execution_count": 14,
   "metadata": {},
   "outputs": [
    {
     "name": "stdout",
     "output_type": "stream",
     "text": [
      "+----------+-------+-------+--------------------+-----------+--------------+--------------------+--------------------+--------------+\n",
      "|      asin|helpful|overall|          reviewText| reviewTime|    reviewerID|        reviewerName|             summary|unixReviewTime|\n",
      "+----------+-------+-------+--------------------+-----------+--------------+--------------------+--------------------+--------------+\n",
      "|1384719342| [0, 0]|    5.0|This pop filter i...|02 21, 2014| A94QU4C90B1AX|       SEAN MASLANKA|No more pops when...|    1392940800|\n",
      "|B00004Y2UT| [0, 0]|    5.0|Monster makes the...| 01 8, 2014| AMNTZU1YQN1TH|         Kurt Robair|Best Instrument C...|    1389139200|\n",
      "|B00004Y2UT| [6, 6]|    5.0|Monster makes a w...|04 19, 2012|A2NYK9KWFMJV4Y|Mike Tarrani \"Jaz...|One of the best i...|    1334793600|\n",
      "|B000068NSX| [0, 0]|    4.0|This Fender cable...|08 13, 2013| AKSFZ4G1AXYFC|        C.E. \"Frank\"|Durable Instrumen...|    1376352000|\n",
      "|B000068NSX| [0, 0]|    5.0|The Fender 18 Fee...|01 29, 2014|A2G12DY50U700V|         Ricky Shows|Fender 18 Feet Ca...|    1390953600|\n",
      "|B000068NVI| [0, 0]|    5.0|I bought these to...|02 19, 2014|A27DR1VO079F1V|           Dan Edman|         Still going|    1392768000|\n",
      "|B000068NVI| [0, 0]|    4.0|This is a fine ca...|12 15, 2013|A17CU1D2CWXOHB|                Rick|       a fine cable.|    1387065600|\n",
      "|B000068NW5| [0, 0]|    5.0|Zero issues with ...|03 31, 2012| ABC68JUCPTVOE| A. Fabbri \"afabbri\"|Pretty cheap cabl...|    1333152000|\n",
      "|B000068NW5| [0, 0]|    5.0|I have found Hosa...|05 13, 2014|A2JK2ITE138P7Z|            Dr. Marc|Nice cable for th...|    1399939200|\n",
      "|B000068NW5| [0, 0]|    5.0|Hosa guitar cable...|07 23, 2012| A6D91KPQGIDKZ|  Jim R. \"Photo man\"|         Good cables|    1343001600|\n",
      "|B000068NW5| [0, 0]|    4.0|Hosa cable qualit...|01 21, 2013|A396ELNTQDFYPO|           Mark King|      So Far So Good|    1358726400|\n",
      "|B000068NW5| [0, 0]|    4.0|Only complaint is...|06 28, 2014|A1S8R9OAIQT7YI|     patriotsarebest|Only complaint is...|    1403913600|\n",
      "|B000068NW5| [0, 0]|    5.0|For the price, th...| 01 8, 2013| AVY8D3ULJTX0H|          P. Panehal|               Works|    1357603200|\n",
      "|B000068NW5| [0, 0]|    5.0|very sturdy, high...|06 16, 2014|A3NGAQKJ6X088B|R. Beckmeyer \"Pos...|works well, great...|    1402876800|\n",
      "|B000068NW5| [0, 0]|    5.0|Unless you're goi...| 09 7, 2012|A35XRT4BW4I6UD|   Richard R. Casper|         Great Value|    1346976000|\n",
      "|B000068NW5| [0, 0]|    5.0|I have many lengt...|10 10, 2013| AKYDGCKCY7H9F|R. W. Milyard \"Ge...|         Good cables|    1381363200|\n",
      "|B000068NZG| [0, 0]|    5.0|First, the reason...|06 25, 2013|A2NYK9KWFMJV4Y|Mike Tarrani \"Jaz...|Solved a big issu...|    1372118400|\n",
      "|B000068O3X| [0, 0]|    5.0|If you need some ...|02 10, 2013|A2F2L5F9OWWVY6|                  AT|Great pedal cable...|    1360454400|\n",
      "|B000068O3X| [0, 0]|    5.0|I typically use p...|07 19, 2013| AEG2MOBNK5KCA|             Mick R.|  Reliable and Great|    1374192000|\n",
      "|B000068O4H| [0, 0]|    4.0|I bought 6 of the...|02 11, 2014|A3HLW3G0TA8GX1|             Andytoy|Nice tool, althou...|    1392076800|\n",
      "+----------+-------+-------+--------------------+-----------+--------------+--------------------+--------------------+--------------+\n",
      "only showing top 20 rows\n",
      "\n"
     ]
    }
   ],
   "source": [
    "df_sample.show()"
   ]
  },
  {
   "cell_type": "code",
   "execution_count": 21,
   "metadata": {},
   "outputs": [
    {
     "ename": "AttributeError",
     "evalue": "'str' object has no attribute 'desc'",
     "output_type": "error",
     "traceback": [
      "\u001b[0;31m---------------------------------------------------------------------------\u001b[0m",
      "\u001b[0;31mAttributeError\u001b[0m                            Traceback (most recent call last)",
      "\u001b[0;32m<ipython-input-21-51ef17b704da>\u001b[0m in \u001b[0;36m<module>\u001b[0;34m\u001b[0m\n\u001b[0;32m----> 1\u001b[0;31m \u001b[0mdf_sort\u001b[0m \u001b[0;34m=\u001b[0m \u001b[0mdf_sample\u001b[0m\u001b[0;34m.\u001b[0m\u001b[0msort\u001b[0m\u001b[0;34m(\u001b[0m\u001b[0;34m\"reviewerID\"\u001b[0m\u001b[0;34m)\u001b[0m\u001b[0;34m.\u001b[0m\u001b[0morderBy\u001b[0m\u001b[0;34m(\u001b[0m\u001b[0;34m\"overall\"\u001b[0m\u001b[0;34m.\u001b[0m\u001b[0mdesc\u001b[0m\u001b[0;34m)\u001b[0m\u001b[0;34m\u001b[0m\u001b[0;34m\u001b[0m\u001b[0m\n\u001b[0m",
      "\u001b[0;31mAttributeError\u001b[0m: 'str' object has no attribute 'desc'"
     ]
    }
   ],
   "source": [
    "df_sort = df_sample.sort(\"reviewerID\").orderBy(\"overall\".desc)"
   ]
  },
  {
   "cell_type": "code",
   "execution_count": 17,
   "metadata": {},
   "outputs": [
    {
     "name": "stdout",
     "output_type": "stream",
     "text": [
      "+----------+-------+-------+--------------------+-----------+--------------------+--------------------+--------------------+--------------+\n",
      "|      asin|helpful|overall|          reviewText| reviewTime|          reviewerID|        reviewerName|             summary|unixReviewTime|\n",
      "+----------+-------+-------+--------------------+-----------+--------------------+--------------------+--------------------+--------------+\n",
      "|B000SAC5PA| [0, 0]|    5.0|I'm a new user, b...|11 16, 2012|A00625243BI8W1SSZ...|           jespi59jr| Acoustic Guitar Bag|    1353024000|\n",
      "|B000PO30QM| [0, 0]|    5.0|I bought this cab...|11 16, 2012|A00625243BI8W1SSZ...|           jespi59jr|   I love this cable|    1353024000|\n",
      "|B004TGVRDA| [0, 3]|    2.0|I was dissapointe...|08 17, 2012|      A10044ECXDUVKS|       Dean J Copely|Great sound well ...|    1345161600|\n",
      "|B0044R1M0M| [0, 0]|    5.0|My son purchased ...|03 26, 2013|      A102MU6ZC9H1N6|Teresa Halbert \"T...|Rogue G10 10W 1X3...|    1364256000|\n",
      "|B004XNK7AI| [1, 1]|    5.0|This little Snark...|01 12, 2014|      A109ME7C09HM2M|  Douglas W. Fielder|Great Little Tune...|    1389484800|\n",
      "|B000MWWT6E| [0, 0]|    5.0|I own all 3 versi...|02 17, 2014|      A10APIDAZISWQF|           mando2112|     Simply the best|    1392595200|\n",
      "|B003AYEAHC| [0, 0]|    4.0|Very nice tone an...|03 14, 2014|      A10APIDAZISWQF|           mando2112|Easy as a one kno...|    1394755200|\n",
      "|B000RY68PA| [0, 0]|    5.0|If you are have p...|09 10, 2013|      A10B2J2IRQXBWA|      walter goodwyn|alway in control ...|    1378771200|\n",
      "|B0009K9MUA| [0, 0]|    5.0|fits just fine,I ...| 04 2, 2013|      A10E3QH2FQUBLF|         Jorge Marin|          Hercules !|    1364860800|\n",
      "|B000RKL8R2| [0, 0]|    5.0|very durable and ...|05 13, 2010|      A10E3QH2FQUBLF|         Jorge Marin|           nice!!!!!|    1273708800|\n",
      "|B001LNN30E| [0, 0]|    5.0|Just starting out...|11 26, 2011|      A10HYGDU2NITYQ|         GregoryEEEE|    Excellent Guitar|    1322265600|\n",
      "|B0027V760M| [0, 0]|    5.0|I bought this bec...| 03 6, 2012|      A10KH8EN77ZKWH|           H. Easter|Portable, works f...|    1330992000|\n",
      "|B004UJO41S| [0, 0]|    5.0|After purchasing ...|02 28, 2013|      A10VG94SAKVSC0|         Island Girl|Can't believe the...|    1362009600|\n",
      "|B0002GLDQM| [0, 0]|    3.0|I'm rather disapp...|05 11, 2012|      A110ZEDSNASVCO|Brother MOLOCH 96...|         Hmmmmmm....|    1336694400|\n",
      "|B000KIRT6A| [1, 1]|    3.0|I got this in the...|02 24, 2011|      A110ZEDSNASVCO|Brother MOLOCH 96...|        It's....Okay|    1298505600|\n",
      "|B0002D0Q2W| [1, 1]|    5.0|Originally I purc...| 03 5, 2011|      A110ZEDSNASVCO|Brother MOLOCH 96...|Five Stars Withou...|    1299283200|\n",
      "|B000LQLDM2| [2, 2]|    5.0|I don't think I c...|04 10, 2010|      A11E4FWMN9BXJD|Josh Adams \"Rock ...|Superior shockmou...|    1270857600|\n",
      "|B0044R1M0M| [0, 0]|    5.0|A good solid piec...| 01 4, 2014|      A120FZ2ESIMA63|                 Dan|  Loud for its size!|    1388793600|\n",
      "|B00BL6JDUA| [0, 0]|    5.0|A fine inexpensiv...| 01 4, 2014|      A120FZ2ESIMA63|                 Dan|     Fine assortment|    1388793600|\n",
      "|B00BU9KCXK| [0, 0]|    5.0|It has a nice sol...| 01 4, 2014|      A120FZ2ESIMA63|                 Dan|          Great buy!|    1388793600|\n",
      "+----------+-------+-------+--------------------+-----------+--------------------+--------------------+--------------------+--------------+\n",
      "only showing top 20 rows\n",
      "\n"
     ]
    }
   ],
   "source": [
    "df_sort.show()"
   ]
  },
  {
   "cell_type": "code",
   "execution_count": 25,
   "metadata": {},
   "outputs": [
    {
     "name": "stdout",
     "output_type": "stream",
     "text": [
      "+----------+-------+-------+--------------------+-----------+--------------+------------+----------+--------------+\n",
      "|      asin|helpful|overall|          reviewText| reviewTime|    reviewerID|reviewerName|   summary|unixReviewTime|\n",
      "+----------+-------+-------+--------------------+-----------+--------------+------------+----------+--------------+\n",
      "|B0009K9MUA| [0, 0]|    5.0|fits just fine,I ...| 04 2, 2013|A10E3QH2FQUBLF| Jorge Marin|Hercules !|    1364860800|\n",
      "|B000RKL8R2| [0, 0]|    5.0|very durable and ...|05 13, 2010|A10E3QH2FQUBLF| Jorge Marin| nice!!!!!|    1273708800|\n",
      "+----------+-------+-------+--------------------+-----------+--------------+------------+----------+--------------+\n",
      "\n"
     ]
    }
   ],
   "source": [
    "df2 = df_sort.filter(df_sort[\"reviewerName\"] == \"Jorge Marin\").show()"
   ]
  },
  {
   "cell_type": "code",
   "execution_count": null,
   "metadata": {},
   "outputs": [],
   "source": []
  }
 ],
 "metadata": {
  "kernelspec": {
   "display_name": "Python 3",
   "language": "python",
   "name": "python3"
  },
  "language_info": {
   "codemirror_mode": {
    "name": "ipython",
    "version": 3
   },
   "file_extension": ".py",
   "mimetype": "text/x-python",
   "name": "python",
   "nbconvert_exporter": "python",
   "pygments_lexer": "ipython3",
   "version": "3.7.6"
  }
 },
 "nbformat": 4,
 "nbformat_minor": 4
}
