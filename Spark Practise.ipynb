{
 "cells": [
  {
   "cell_type": "markdown",
   "metadata": {},
   "source": [
    "2+3"
   ]
  },
  {
   "cell_type": "code",
   "execution_count": 2,
   "metadata": {},
   "outputs": [
    {
     "name": "stdout",
     "output_type": "stream",
     "text": [
      "Hello Spark\n"
     ]
    }
   ],
   "source": [
    "print(\"Hello Spark\")"
   ]
  },
  {
   "cell_type": "markdown",
   "metadata": {},
   "source": [
    "This is a comment "
   ]
  },
  {
   "cell_type": "code",
   "execution_count": 3,
   "metadata": {},
   "outputs": [
    {
     "data": {
      "text/plain": [
       "2.0"
      ]
     },
     "execution_count": 3,
     "metadata": {},
     "output_type": "execute_result"
    }
   ],
   "source": [
    "8/4"
   ]
  },
  {
   "cell_type": "code",
   "execution_count": 5,
   "metadata": {},
   "outputs": [],
   "source": [
    "from pyspark.sql import SparkSession"
   ]
  },
  {
   "cell_type": "code",
   "execution_count": 6,
   "metadata": {},
   "outputs": [],
   "source": [
    "spark = SparkSession.builder.getOrCreate()"
   ]
  },
  {
   "cell_type": "code",
   "execution_count": 7,
   "metadata": {},
   "outputs": [
    {
     "data": {
      "text/html": [
       "\n",
       "            <div>\n",
       "                <p><b>SparkSession - in-memory</b></p>\n",
       "                \n",
       "        <div>\n",
       "            <p><b>SparkContext</b></p>\n",
       "\n",
       "            <p><a href=\"http://192.168.1.8:4041\">Spark UI</a></p>\n",
       "\n",
       "            <dl>\n",
       "              <dt>Version</dt>\n",
       "                <dd><code>v2.4.5</code></dd>\n",
       "              <dt>Master</dt>\n",
       "                <dd><code>local[*]</code></dd>\n",
       "              <dt>AppName</dt>\n",
       "                <dd><code>pyspark-shell</code></dd>\n",
       "            </dl>\n",
       "        </div>\n",
       "        \n",
       "            </div>\n",
       "        "
      ],
      "text/plain": [
       "<pyspark.sql.session.SparkSession at 0x112e6fd10>"
      ]
     },
     "execution_count": 7,
     "metadata": {},
     "output_type": "execute_result"
    }
   ],
   "source": [
    "spark"
   ]
  },
  {
   "cell_type": "code",
   "execution_count": 33,
   "metadata": {},
   "outputs": [],
   "source": [
    "data_path = \"/Users/sangeethadetne/Desktop/BigData/SampleData/Jan_2019_ontime.csv\""
   ]
  },
  {
   "cell_type": "code",
   "execution_count": 34,
   "metadata": {},
   "outputs": [],
   "source": [
    "df1 = spark.read.format(\"csv\").option(\"header\",\"true\").load(data_path)"
   ]
  },
  {
   "cell_type": "code",
   "execution_count": 35,
   "metadata": {},
   "outputs": [
    {
     "data": {
      "text/plain": [
       "[Row(DAY_OF_MONTH='1', DAY_OF_WEEK='2', OP_UNIQUE_CARRIER='9E', OP_CARRIER_AIRLINE_ID='20363', OP_CARRIER='9E', TAIL_NUM='N8688C', OP_CARRIER_FL_NUM='3280', ORIGIN_AIRPORT_ID='11953', ORIGIN_AIRPORT_SEQ_ID='1195302', ORIGIN='GNV', DEST_AIRPORT_ID='10397', DEST_AIRPORT_SEQ_ID='1039707', DEST='ATL', DEP_TIME='0601', DEP_DEL15='0.00', DEP_TIME_BLK='0600-0659', ARR_TIME='0722', ARR_DEL15='0.00', CANCELLED='0.00', DIVERTED='0.00', DISTANCE='300.00', _c21=None),\n",
       " Row(DAY_OF_MONTH='1', DAY_OF_WEEK='2', OP_UNIQUE_CARRIER='9E', OP_CARRIER_AIRLINE_ID='20363', OP_CARRIER='9E', TAIL_NUM='N348PQ', OP_CARRIER_FL_NUM='3281', ORIGIN_AIRPORT_ID='13487', ORIGIN_AIRPORT_SEQ_ID='1348702', ORIGIN='MSP', DEST_AIRPORT_ID='11193', DEST_AIRPORT_SEQ_ID='1119302', DEST='CVG', DEP_TIME='1359', DEP_DEL15='0.00', DEP_TIME_BLK='1400-1459', ARR_TIME='1633', ARR_DEL15='0.00', CANCELLED='0.00', DIVERTED='0.00', DISTANCE='596.00', _c21=None),\n",
       " Row(DAY_OF_MONTH='1', DAY_OF_WEEK='2', OP_UNIQUE_CARRIER='9E', OP_CARRIER_AIRLINE_ID='20363', OP_CARRIER='9E', TAIL_NUM='N8896A', OP_CARRIER_FL_NUM='3282', ORIGIN_AIRPORT_ID='11433', ORIGIN_AIRPORT_SEQ_ID='1143302', ORIGIN='DTW', DEST_AIRPORT_ID='11193', DEST_AIRPORT_SEQ_ID='1119302', DEST='CVG', DEP_TIME='1215', DEP_DEL15='0.00', DEP_TIME_BLK='1200-1259', ARR_TIME='1329', ARR_DEL15='0.00', CANCELLED='0.00', DIVERTED='0.00', DISTANCE='229.00', _c21=None),\n",
       " Row(DAY_OF_MONTH='1', DAY_OF_WEEK='2', OP_UNIQUE_CARRIER='9E', OP_CARRIER_AIRLINE_ID='20363', OP_CARRIER='9E', TAIL_NUM='N8886A', OP_CARRIER_FL_NUM='3283', ORIGIN_AIRPORT_ID='15249', ORIGIN_AIRPORT_SEQ_ID='1524906', ORIGIN='TLH', DEST_AIRPORT_ID='10397', DEST_AIRPORT_SEQ_ID='1039707', DEST='ATL', DEP_TIME='1521', DEP_DEL15='0.00', DEP_TIME_BLK='1500-1559', ARR_TIME='1625', ARR_DEL15='0.00', CANCELLED='0.00', DIVERTED='0.00', DISTANCE='223.00', _c21=None),\n",
       " Row(DAY_OF_MONTH='1', DAY_OF_WEEK='2', OP_UNIQUE_CARRIER='9E', OP_CARRIER_AIRLINE_ID='20363', OP_CARRIER='9E', TAIL_NUM='N8974C', OP_CARRIER_FL_NUM='3284', ORIGIN_AIRPORT_ID='10397', ORIGIN_AIRPORT_SEQ_ID='1039707', ORIGIN='ATL', DEST_AIRPORT_ID='11778', DEST_AIRPORT_SEQ_ID='1177801', DEST='FSM', DEP_TIME='1847', DEP_DEL15='0.00', DEP_TIME_BLK='1900-1959', ARR_TIME='1940', ARR_DEL15='0.00', CANCELLED='0.00', DIVERTED='0.00', DISTANCE='579.00', _c21=None),\n",
       " Row(DAY_OF_MONTH='1', DAY_OF_WEEK='2', OP_UNIQUE_CARRIER='9E', OP_CARRIER_AIRLINE_ID='20363', OP_CARRIER='9E', TAIL_NUM='N927EV', OP_CARRIER_FL_NUM='3285', ORIGIN_AIRPORT_ID='11267', ORIGIN_AIRPORT_SEQ_ID='1126702', ORIGIN='DAY', DEST_AIRPORT_ID='13487', DEST_AIRPORT_SEQ_ID='1348702', DEST='MSP', DEP_TIME='0853', DEP_DEL15='0.00', DEP_TIME_BLK='0900-0959', ARR_TIME='0953', ARR_DEL15='0.00', CANCELLED='0.00', DIVERTED='0.00', DISTANCE='574.00', _c21=None),\n",
       " Row(DAY_OF_MONTH='1', DAY_OF_WEEK='2', OP_UNIQUE_CARRIER='9E', OP_CARRIER_AIRLINE_ID='20363', OP_CARRIER='9E', TAIL_NUM='N915XJ', OP_CARRIER_FL_NUM='3286', ORIGIN_AIRPORT_ID='12448', ORIGIN_AIRPORT_SEQ_ID='1244807', ORIGIN='JAN', DEST_AIRPORT_ID='10397', DEST_AIRPORT_SEQ_ID='1039707', DEST='ATL', DEP_TIME='1553', DEP_DEL15='0.00', DEP_TIME_BLK='1500-1559', ARR_TIME='1832', ARR_DEL15='0.00', CANCELLED='0.00', DIVERTED='0.00', DISTANCE='341.00', _c21=None),\n",
       " Row(DAY_OF_MONTH='1', DAY_OF_WEEK='2', OP_UNIQUE_CARRIER='9E', OP_CARRIER_AIRLINE_ID='20363', OP_CARRIER='9E', TAIL_NUM='N295PQ', OP_CARRIER_FL_NUM='3287', ORIGIN_AIRPORT_ID='12953', ORIGIN_AIRPORT_SEQ_ID='1295304', ORIGIN='LGA', DEST_AIRPORT_ID='11193', DEST_AIRPORT_SEQ_ID='1119302', DEST='CVG', DEP_TIME='1551', DEP_DEL15='0.00', DEP_TIME_BLK='1500-1559', ARR_TIME='1824', ARR_DEL15='0.00', CANCELLED='0.00', DIVERTED='0.00', DISTANCE='585.00', _c21=None),\n",
       " Row(DAY_OF_MONTH='1', DAY_OF_WEEK='2', OP_UNIQUE_CARRIER='9E', OP_CARRIER_AIRLINE_ID='20363', OP_CARRIER='9E', TAIL_NUM='N337PQ', OP_CARRIER_FL_NUM='3288', ORIGIN_AIRPORT_ID='12451', ORIGIN_AIRPORT_SEQ_ID='1245102', ORIGIN='JAX', DEST_AIRPORT_ID='12953', DEST_AIRPORT_SEQ_ID='1295304', DEST='LGA', DEP_TIME='1037', DEP_DEL15='0.00', DEP_TIME_BLK='1000-1059', ARR_TIME='1239', ARR_DEL15='0.00', CANCELLED='0.00', DIVERTED='0.00', DISTANCE='833.00', _c21=None),\n",
       " Row(DAY_OF_MONTH='1', DAY_OF_WEEK='2', OP_UNIQUE_CARRIER='9E', OP_CARRIER_AIRLINE_ID='20363', OP_CARRIER='9E', TAIL_NUM='N311PQ', OP_CARRIER_FL_NUM='3289', ORIGIN_AIRPORT_ID='10397', ORIGIN_AIRPORT_SEQ_ID='1039707', ORIGIN='ATL', DEST_AIRPORT_ID='10685', DEST_AIRPORT_SEQ_ID='1068502', DEST='BMI', DEP_TIME='1245', DEP_DEL15='0.00', DEP_TIME_BLK='1200-1259', ARR_TIME='1318', ARR_DEL15='0.00', CANCELLED='0.00', DIVERTED='0.00', DISTANCE='533.00', _c21=None)]"
      ]
     },
     "execution_count": 35,
     "metadata": {},
     "output_type": "execute_result"
    }
   ],
   "source": [
    "df1.head(10)"
   ]
  },
  {
   "cell_type": "code",
   "execution_count": 36,
   "metadata": {},
   "outputs": [
    {
     "name": "stdout",
     "output_type": "stream",
     "text": [
      "+------------+-----------+-----------------+---------------------+----------+--------+-----------------+-----------------+---------------------+------+---------------+-------------------+----+--------+---------+------------+--------+---------+---------+--------+--------+----+\n",
      "|DAY_OF_MONTH|DAY_OF_WEEK|OP_UNIQUE_CARRIER|OP_CARRIER_AIRLINE_ID|OP_CARRIER|TAIL_NUM|OP_CARRIER_FL_NUM|ORIGIN_AIRPORT_ID|ORIGIN_AIRPORT_SEQ_ID|ORIGIN|DEST_AIRPORT_ID|DEST_AIRPORT_SEQ_ID|DEST|DEP_TIME|DEP_DEL15|DEP_TIME_BLK|ARR_TIME|ARR_DEL15|CANCELLED|DIVERTED|DISTANCE|_c21|\n",
      "+------------+-----------+-----------------+---------------------+----------+--------+-----------------+-----------------+---------------------+------+---------------+-------------------+----+--------+---------+------------+--------+---------+---------+--------+--------+----+\n",
      "|           1|          2|               9E|                20363|        9E|  N8688C|             3280|            11953|              1195302|   GNV|          10397|            1039707| ATL|    0601|     0.00|   0600-0659|    0722|     0.00|     0.00|    0.00|  300.00|null|\n",
      "|           1|          2|               9E|                20363|        9E|  N348PQ|             3281|            13487|              1348702|   MSP|          11193|            1119302| CVG|    1359|     0.00|   1400-1459|    1633|     0.00|     0.00|    0.00|  596.00|null|\n",
      "|           1|          2|               9E|                20363|        9E|  N8896A|             3282|            11433|              1143302|   DTW|          11193|            1119302| CVG|    1215|     0.00|   1200-1259|    1329|     0.00|     0.00|    0.00|  229.00|null|\n",
      "|           1|          2|               9E|                20363|        9E|  N8886A|             3283|            15249|              1524906|   TLH|          10397|            1039707| ATL|    1521|     0.00|   1500-1559|    1625|     0.00|     0.00|    0.00|  223.00|null|\n",
      "|           1|          2|               9E|                20363|        9E|  N8974C|             3284|            10397|              1039707|   ATL|          11778|            1177801| FSM|    1847|     0.00|   1900-1959|    1940|     0.00|     0.00|    0.00|  579.00|null|\n",
      "|           1|          2|               9E|                20363|        9E|  N927EV|             3285|            11267|              1126702|   DAY|          13487|            1348702| MSP|    0853|     0.00|   0900-0959|    0953|     0.00|     0.00|    0.00|  574.00|null|\n",
      "|           1|          2|               9E|                20363|        9E|  N915XJ|             3286|            12448|              1244807|   JAN|          10397|            1039707| ATL|    1553|     0.00|   1500-1559|    1832|     0.00|     0.00|    0.00|  341.00|null|\n",
      "|           1|          2|               9E|                20363|        9E|  N295PQ|             3287|            12953|              1295304|   LGA|          11193|            1119302| CVG|    1551|     0.00|   1500-1559|    1824|     0.00|     0.00|    0.00|  585.00|null|\n",
      "|           1|          2|               9E|                20363|        9E|  N337PQ|             3288|            12451|              1245102|   JAX|          12953|            1295304| LGA|    1037|     0.00|   1000-1059|    1239|     0.00|     0.00|    0.00|  833.00|null|\n",
      "|           1|          2|               9E|                20363|        9E|  N311PQ|             3289|            10397|              1039707|   ATL|          10685|            1068502| BMI|    1245|     0.00|   1200-1259|    1318|     0.00|     0.00|    0.00|  533.00|null|\n",
      "|           1|          2|               9E|                20363|        9E|  N311PQ|             3289|            10685|              1068502|   BMI|          10397|            1039707| ATL|    1410|     0.00|   1400-1459|    1700|     0.00|     0.00|    0.00|  533.00|null|\n",
      "|           1|          2|               9E|                20363|        9E|  N931XJ|             3290|            10874|              1087402|   CAK|          10397|            1039707| ATL|    0557|     0.00|   0600-0659|    0737|     0.00|     0.00|    0.00|  528.00|null|\n",
      "|           1|          2|               9E|                20363|        9E|  N800AY|             3291|            11433|              1143302|   DTW|          11267|            1126702| DAY|    1552|     0.00|   1500-1559|    1738|     1.00|     0.00|    0.00|  166.00|null|\n",
      "|           1|          2|               9E|                20363|        9E|  N927EV|             3292|            13487|              1348702|   MSP|          11267|            1126702| DAY|    2029|     0.00|   2000-2059|    2259|     0.00|     0.00|    0.00|  574.00|null|\n",
      "|           1|          2|               9E|                20363|        9E|  N600LR|             3293|            14100|              1410005|   PHL|          11433|            1143302| DTW|    1312|     0.00|   1300-1359|    1454|     0.00|     0.00|    0.00|  453.00|null|\n",
      "|           1|          2|               9E|                20363|        9E|  N840AY|             3294|            12478|              1247805|   JFK|          14524|            1452401| RIC|    1450|     0.00|   1400-1459|    1637|     0.00|     0.00|    0.00|  288.00|null|\n",
      "|           1|          2|               9E|                20363|        9E|  N232PQ|             3295|            11433|              1143302|   DTW|          11618|            1161802| EWR|    1353|     1.00|   1200-1259|    1521|     1.00|     0.00|    0.00|  488.00|null|\n",
      "|           1|          2|               9E|                20363|        9E|  N8970D|             3296|            10208|              1020803|   AGS|          10397|            1039707| ATL|    1148|     0.00|   1100-1159|    1236|     0.00|     0.00|    0.00|  143.00|null|\n",
      "|           1|          2|               9E|                20363|        9E|  N8970D|             3296|            10397|              1039707|   ATL|          10208|            1020803| AGS|    1020|     0.00|   1000-1059|    1111|     0.00|     0.00|    0.00|  143.00|null|\n",
      "|           1|          2|               9E|                20363|        9E|  N304PQ|             3297|            11433|              1143302|   DTW|          11193|            1119302| CVG|    0817|     0.00|   0800-0859|    0932|     0.00|     0.00|    0.00|  229.00|null|\n",
      "+------------+-----------+-----------------+---------------------+----------+--------+-----------------+-----------------+---------------------+------+---------------+-------------------+----+--------+---------+------------+--------+---------+---------+--------+--------+----+\n",
      "only showing top 20 rows\n",
      "\n"
     ]
    }
   ],
   "source": [
    "df1.show()"
   ]
  },
  {
   "cell_type": "code",
   "execution_count": 38,
   "metadata": {},
   "outputs": [
    {
     "ename": "IllegalArgumentException",
     "evalue": "'Unsupported class file major version 58'",
     "output_type": "error",
     "traceback": [
      "\u001b[0;31m---------------------------------------------------------------------------\u001b[0m",
      "\u001b[0;31mPy4JJavaError\u001b[0m                             Traceback (most recent call last)",
      "\u001b[0;32m/opt/anaconda3/lib/python3.7/site-packages/pyspark/sql/utils.py\u001b[0m in \u001b[0;36mdeco\u001b[0;34m(*a, **kw)\u001b[0m\n\u001b[1;32m     62\u001b[0m         \u001b[0;32mtry\u001b[0m\u001b[0;34m:\u001b[0m\u001b[0;34m\u001b[0m\u001b[0;34m\u001b[0m\u001b[0m\n\u001b[0;32m---> 63\u001b[0;31m             \u001b[0;32mreturn\u001b[0m \u001b[0mf\u001b[0m\u001b[0;34m(\u001b[0m\u001b[0;34m*\u001b[0m\u001b[0ma\u001b[0m\u001b[0;34m,\u001b[0m \u001b[0;34m**\u001b[0m\u001b[0mkw\u001b[0m\u001b[0;34m)\u001b[0m\u001b[0;34m\u001b[0m\u001b[0;34m\u001b[0m\u001b[0m\n\u001b[0m\u001b[1;32m     64\u001b[0m         \u001b[0;32mexcept\u001b[0m \u001b[0mpy4j\u001b[0m\u001b[0;34m.\u001b[0m\u001b[0mprotocol\u001b[0m\u001b[0;34m.\u001b[0m\u001b[0mPy4JJavaError\u001b[0m \u001b[0;32mas\u001b[0m \u001b[0me\u001b[0m\u001b[0;34m:\u001b[0m\u001b[0;34m\u001b[0m\u001b[0;34m\u001b[0m\u001b[0m\n",
      "\u001b[0;32m/opt/anaconda3/lib/python3.7/site-packages/py4j/protocol.py\u001b[0m in \u001b[0;36mget_return_value\u001b[0;34m(answer, gateway_client, target_id, name)\u001b[0m\n\u001b[1;32m    327\u001b[0m                     \u001b[0;34m\"An error occurred while calling {0}{1}{2}.\\n\"\u001b[0m\u001b[0;34m.\u001b[0m\u001b[0;34m\u001b[0m\u001b[0;34m\u001b[0m\u001b[0m\n\u001b[0;32m--> 328\u001b[0;31m                     format(target_id, \".\", name), value)\n\u001b[0m\u001b[1;32m    329\u001b[0m             \u001b[0;32melse\u001b[0m\u001b[0;34m:\u001b[0m\u001b[0;34m\u001b[0m\u001b[0;34m\u001b[0m\u001b[0m\n",
      "\u001b[0;31mPy4JJavaError\u001b[0m: An error occurred while calling o286.count.\n: java.lang.IllegalArgumentException: Unsupported class file major version 58\n\tat org.apache.xbean.asm6.ClassReader.<init>(ClassReader.java:166)\n\tat org.apache.xbean.asm6.ClassReader.<init>(ClassReader.java:148)\n\tat org.apache.xbean.asm6.ClassReader.<init>(ClassReader.java:136)\n\tat org.apache.xbean.asm6.ClassReader.<init>(ClassReader.java:237)\n\tat org.apache.spark.util.ClosureCleaner$.getClassReader(ClosureCleaner.scala:49)\n\tat org.apache.spark.util.FieldAccessFinder$$anon$3$$anonfun$visitMethodInsn$2.apply(ClosureCleaner.scala:517)\n\tat org.apache.spark.util.FieldAccessFinder$$anon$3$$anonfun$visitMethodInsn$2.apply(ClosureCleaner.scala:500)\n\tat scala.collection.TraversableLike$WithFilter$$anonfun$foreach$1.apply(TraversableLike.scala:733)\n\tat scala.collection.mutable.HashMap$$anon$1$$anonfun$foreach$2.apply(HashMap.scala:134)\n\tat scala.collection.mutable.HashMap$$anon$1$$anonfun$foreach$2.apply(HashMap.scala:134)\n\tat scala.collection.mutable.HashTable$class.foreachEntry(HashTable.scala:236)\n\tat scala.collection.mutable.HashMap.foreachEntry(HashMap.scala:40)\n\tat scala.collection.mutable.HashMap$$anon$1.foreach(HashMap.scala:134)\n\tat scala.collection.TraversableLike$WithFilter.foreach(TraversableLike.scala:732)\n\tat org.apache.spark.util.FieldAccessFinder$$anon$3.visitMethodInsn(ClosureCleaner.scala:500)\n\tat org.apache.xbean.asm6.ClassReader.readCode(ClassReader.java:2175)\n\tat org.apache.xbean.asm6.ClassReader.readMethod(ClassReader.java:1238)\n\tat org.apache.xbean.asm6.ClassReader.accept(ClassReader.java:631)\n\tat org.apache.xbean.asm6.ClassReader.accept(ClassReader.java:355)\n\tat org.apache.spark.util.ClosureCleaner$$anonfun$org$apache$spark$util$ClosureCleaner$$clean$14.apply(ClosureCleaner.scala:307)\n\tat org.apache.spark.util.ClosureCleaner$$anonfun$org$apache$spark$util$ClosureCleaner$$clean$14.apply(ClosureCleaner.scala:306)\n\tat scala.collection.immutable.List.foreach(List.scala:392)\n\tat org.apache.spark.util.ClosureCleaner$.org$apache$spark$util$ClosureCleaner$$clean(ClosureCleaner.scala:306)\n\tat org.apache.spark.util.ClosureCleaner$.clean(ClosureCleaner.scala:162)\n\tat org.apache.spark.SparkContext.clean(SparkContext.scala:2326)\n\tat org.apache.spark.SparkContext.runJob(SparkContext.scala:2100)\n\tat org.apache.spark.SparkContext.runJob(SparkContext.scala:2126)\n\tat org.apache.spark.rdd.RDD$$anonfun$collect$1.apply(RDD.scala:990)\n\tat org.apache.spark.rdd.RDDOperationScope$.withScope(RDDOperationScope.scala:151)\n\tat org.apache.spark.rdd.RDDOperationScope$.withScope(RDDOperationScope.scala:112)\n\tat org.apache.spark.rdd.RDD.withScope(RDD.scala:385)\n\tat org.apache.spark.rdd.RDD.collect(RDD.scala:989)\n\tat org.apache.spark.sql.execution.SparkPlan.executeCollect(SparkPlan.scala:299)\n\tat org.apache.spark.sql.Dataset$$anonfun$count$1.apply(Dataset.scala:2836)\n\tat org.apache.spark.sql.Dataset$$anonfun$count$1.apply(Dataset.scala:2835)\n\tat org.apache.spark.sql.Dataset$$anonfun$52.apply(Dataset.scala:3370)\n\tat org.apache.spark.sql.execution.SQLExecution$$anonfun$withNewExecutionId$1.apply(SQLExecution.scala:80)\n\tat org.apache.spark.sql.execution.SQLExecution$.withSQLConfPropagated(SQLExecution.scala:127)\n\tat org.apache.spark.sql.execution.SQLExecution$.withNewExecutionId(SQLExecution.scala:75)\n\tat org.apache.spark.sql.Dataset.withAction(Dataset.scala:3369)\n\tat org.apache.spark.sql.Dataset.count(Dataset.scala:2835)\n\tat java.base/jdk.internal.reflect.NativeMethodAccessorImpl.invoke0(Native Method)\n\tat java.base/jdk.internal.reflect.NativeMethodAccessorImpl.invoke(NativeMethodAccessorImpl.java:62)\n\tat java.base/jdk.internal.reflect.DelegatingMethodAccessorImpl.invoke(DelegatingMethodAccessorImpl.java:43)\n\tat java.base/java.lang.reflect.Method.invoke(Method.java:564)\n\tat py4j.reflection.MethodInvoker.invoke(MethodInvoker.java:244)\n\tat py4j.reflection.ReflectionEngine.invoke(ReflectionEngine.java:357)\n\tat py4j.Gateway.invoke(Gateway.java:282)\n\tat py4j.commands.AbstractCommand.invokeMethod(AbstractCommand.java:132)\n\tat py4j.commands.CallCommand.execute(CallCommand.java:79)\n\tat py4j.GatewayConnection.run(GatewayConnection.java:238)\n\tat java.base/java.lang.Thread.run(Thread.java:832)\n",
      "\nDuring handling of the above exception, another exception occurred:\n",
      "\u001b[0;31mIllegalArgumentException\u001b[0m                  Traceback (most recent call last)",
      "\u001b[0;32m<ipython-input-38-881b90334d39>\u001b[0m in \u001b[0;36m<module>\u001b[0;34m\u001b[0m\n\u001b[0;32m----> 1\u001b[0;31m \u001b[0mdf1\u001b[0m\u001b[0;34m.\u001b[0m\u001b[0mcount\u001b[0m\u001b[0;34m(\u001b[0m\u001b[0;34m)\u001b[0m\u001b[0;34m\u001b[0m\u001b[0;34m\u001b[0m\u001b[0m\n\u001b[0m",
      "\u001b[0;32m/opt/anaconda3/lib/python3.7/site-packages/pyspark/sql/dataframe.py\u001b[0m in \u001b[0;36mcount\u001b[0;34m(self)\u001b[0m\n\u001b[1;32m    521\u001b[0m         \u001b[0;36m2\u001b[0m\u001b[0;34m\u001b[0m\u001b[0;34m\u001b[0m\u001b[0m\n\u001b[1;32m    522\u001b[0m         \"\"\"\n\u001b[0;32m--> 523\u001b[0;31m         \u001b[0;32mreturn\u001b[0m \u001b[0mint\u001b[0m\u001b[0;34m(\u001b[0m\u001b[0mself\u001b[0m\u001b[0;34m.\u001b[0m\u001b[0m_jdf\u001b[0m\u001b[0;34m.\u001b[0m\u001b[0mcount\u001b[0m\u001b[0;34m(\u001b[0m\u001b[0;34m)\u001b[0m\u001b[0;34m)\u001b[0m\u001b[0;34m\u001b[0m\u001b[0;34m\u001b[0m\u001b[0m\n\u001b[0m\u001b[1;32m    524\u001b[0m \u001b[0;34m\u001b[0m\u001b[0m\n\u001b[1;32m    525\u001b[0m     \u001b[0;34m@\u001b[0m\u001b[0mignore_unicode_prefix\u001b[0m\u001b[0;34m\u001b[0m\u001b[0;34m\u001b[0m\u001b[0m\n",
      "\u001b[0;32m/opt/anaconda3/lib/python3.7/site-packages/py4j/java_gateway.py\u001b[0m in \u001b[0;36m__call__\u001b[0;34m(self, *args)\u001b[0m\n\u001b[1;32m   1255\u001b[0m         \u001b[0manswer\u001b[0m \u001b[0;34m=\u001b[0m \u001b[0mself\u001b[0m\u001b[0;34m.\u001b[0m\u001b[0mgateway_client\u001b[0m\u001b[0;34m.\u001b[0m\u001b[0msend_command\u001b[0m\u001b[0;34m(\u001b[0m\u001b[0mcommand\u001b[0m\u001b[0;34m)\u001b[0m\u001b[0;34m\u001b[0m\u001b[0;34m\u001b[0m\u001b[0m\n\u001b[1;32m   1256\u001b[0m         return_value = get_return_value(\n\u001b[0;32m-> 1257\u001b[0;31m             answer, self.gateway_client, self.target_id, self.name)\n\u001b[0m\u001b[1;32m   1258\u001b[0m \u001b[0;34m\u001b[0m\u001b[0m\n\u001b[1;32m   1259\u001b[0m         \u001b[0;32mfor\u001b[0m \u001b[0mtemp_arg\u001b[0m \u001b[0;32min\u001b[0m \u001b[0mtemp_args\u001b[0m\u001b[0;34m:\u001b[0m\u001b[0;34m\u001b[0m\u001b[0;34m\u001b[0m\u001b[0m\n",
      "\u001b[0;32m/opt/anaconda3/lib/python3.7/site-packages/pyspark/sql/utils.py\u001b[0m in \u001b[0;36mdeco\u001b[0;34m(*a, **kw)\u001b[0m\n\u001b[1;32m     77\u001b[0m                 \u001b[0;32mraise\u001b[0m \u001b[0mQueryExecutionException\u001b[0m\u001b[0;34m(\u001b[0m\u001b[0ms\u001b[0m\u001b[0;34m.\u001b[0m\u001b[0msplit\u001b[0m\u001b[0;34m(\u001b[0m\u001b[0;34m': '\u001b[0m\u001b[0;34m,\u001b[0m \u001b[0;36m1\u001b[0m\u001b[0;34m)\u001b[0m\u001b[0;34m[\u001b[0m\u001b[0;36m1\u001b[0m\u001b[0;34m]\u001b[0m\u001b[0;34m,\u001b[0m \u001b[0mstackTrace\u001b[0m\u001b[0;34m)\u001b[0m\u001b[0;34m\u001b[0m\u001b[0;34m\u001b[0m\u001b[0m\n\u001b[1;32m     78\u001b[0m             \u001b[0;32mif\u001b[0m \u001b[0ms\u001b[0m\u001b[0;34m.\u001b[0m\u001b[0mstartswith\u001b[0m\u001b[0;34m(\u001b[0m\u001b[0;34m'java.lang.IllegalArgumentException: '\u001b[0m\u001b[0;34m)\u001b[0m\u001b[0;34m:\u001b[0m\u001b[0;34m\u001b[0m\u001b[0;34m\u001b[0m\u001b[0m\n\u001b[0;32m---> 79\u001b[0;31m                 \u001b[0;32mraise\u001b[0m \u001b[0mIllegalArgumentException\u001b[0m\u001b[0;34m(\u001b[0m\u001b[0ms\u001b[0m\u001b[0;34m.\u001b[0m\u001b[0msplit\u001b[0m\u001b[0;34m(\u001b[0m\u001b[0;34m': '\u001b[0m\u001b[0;34m,\u001b[0m \u001b[0;36m1\u001b[0m\u001b[0;34m)\u001b[0m\u001b[0;34m[\u001b[0m\u001b[0;36m1\u001b[0m\u001b[0;34m]\u001b[0m\u001b[0;34m,\u001b[0m \u001b[0mstackTrace\u001b[0m\u001b[0;34m)\u001b[0m\u001b[0;34m\u001b[0m\u001b[0;34m\u001b[0m\u001b[0m\n\u001b[0m\u001b[1;32m     80\u001b[0m             \u001b[0;32mraise\u001b[0m\u001b[0;34m\u001b[0m\u001b[0;34m\u001b[0m\u001b[0m\n\u001b[1;32m     81\u001b[0m     \u001b[0;32mreturn\u001b[0m \u001b[0mdeco\u001b[0m\u001b[0;34m\u001b[0m\u001b[0;34m\u001b[0m\u001b[0m\n",
      "\u001b[0;31mIllegalArgumentException\u001b[0m: 'Unsupported class file major version 58'"
     ]
    }
   ],
   "source": [
    "df1.count()"
   ]
  },
  {
   "cell_type": "code",
   "execution_count": 39,
   "metadata": {},
   "outputs": [],
   "source": [
    "file_Path_no_header  =\"/Users/sangeethadetne/Desktop/BigData/SampleData/Jan_2019_ontime.csv\"\n",
    "df2 = spark.read.format(\"csv\").option(\"header\",\"false\").option(\"inferSchema\",\"true\").load(file_Path_no_header)\n"
   ]
  },
  {
   "cell_type": "code",
   "execution_count": 40,
   "metadata": {},
   "outputs": [
    {
     "name": "stdout",
     "output_type": "stream",
     "text": [
      "+------------+-----------+-----------------+--------------------+----------+--------+-----------------+-----------------+--------------------+------+---------------+-------------------+----+--------+---------+------------+--------+---------+---------+--------+--------+----+\n",
      "|         _c0|        _c1|              _c2|                 _c3|       _c4|     _c5|              _c6|              _c7|                 _c8|   _c9|           _c10|               _c11|_c12|    _c13|     _c14|        _c15|    _c16|     _c17|     _c18|    _c19|    _c20|_c21|\n",
      "+------------+-----------+-----------------+--------------------+----------+--------+-----------------+-----------------+--------------------+------+---------------+-------------------+----+--------+---------+------------+--------+---------+---------+--------+--------+----+\n",
      "|DAY_OF_MONTH|DAY_OF_WEEK|OP_UNIQUE_CARRIER|OP_CARRIER_AIRLIN...|OP_CARRIER|TAIL_NUM|OP_CARRIER_FL_NUM|ORIGIN_AIRPORT_ID|ORIGIN_AIRPORT_SE...|ORIGIN|DEST_AIRPORT_ID|DEST_AIRPORT_SEQ_ID|DEST|DEP_TIME|DEP_DEL15|DEP_TIME_BLK|ARR_TIME|ARR_DEL15|CANCELLED|DIVERTED|DISTANCE|null|\n",
      "|           1|          2|               9E|               20363|        9E|  N8688C|             3280|            11953|             1195302|   GNV|          10397|            1039707| ATL|    0601|     0.00|   0600-0659|    0722|     0.00|     0.00|    0.00|  300.00|null|\n",
      "|           1|          2|               9E|               20363|        9E|  N348PQ|             3281|            13487|             1348702|   MSP|          11193|            1119302| CVG|    1359|     0.00|   1400-1459|    1633|     0.00|     0.00|    0.00|  596.00|null|\n",
      "|           1|          2|               9E|               20363|        9E|  N8896A|             3282|            11433|             1143302|   DTW|          11193|            1119302| CVG|    1215|     0.00|   1200-1259|    1329|     0.00|     0.00|    0.00|  229.00|null|\n",
      "|           1|          2|               9E|               20363|        9E|  N8886A|             3283|            15249|             1524906|   TLH|          10397|            1039707| ATL|    1521|     0.00|   1500-1559|    1625|     0.00|     0.00|    0.00|  223.00|null|\n",
      "|           1|          2|               9E|               20363|        9E|  N8974C|             3284|            10397|             1039707|   ATL|          11778|            1177801| FSM|    1847|     0.00|   1900-1959|    1940|     0.00|     0.00|    0.00|  579.00|null|\n",
      "|           1|          2|               9E|               20363|        9E|  N927EV|             3285|            11267|             1126702|   DAY|          13487|            1348702| MSP|    0853|     0.00|   0900-0959|    0953|     0.00|     0.00|    0.00|  574.00|null|\n",
      "|           1|          2|               9E|               20363|        9E|  N915XJ|             3286|            12448|             1244807|   JAN|          10397|            1039707| ATL|    1553|     0.00|   1500-1559|    1832|     0.00|     0.00|    0.00|  341.00|null|\n",
      "|           1|          2|               9E|               20363|        9E|  N295PQ|             3287|            12953|             1295304|   LGA|          11193|            1119302| CVG|    1551|     0.00|   1500-1559|    1824|     0.00|     0.00|    0.00|  585.00|null|\n",
      "|           1|          2|               9E|               20363|        9E|  N337PQ|             3288|            12451|             1245102|   JAX|          12953|            1295304| LGA|    1037|     0.00|   1000-1059|    1239|     0.00|     0.00|    0.00|  833.00|null|\n",
      "|           1|          2|               9E|               20363|        9E|  N311PQ|             3289|            10397|             1039707|   ATL|          10685|            1068502| BMI|    1245|     0.00|   1200-1259|    1318|     0.00|     0.00|    0.00|  533.00|null|\n",
      "|           1|          2|               9E|               20363|        9E|  N311PQ|             3289|            10685|             1068502|   BMI|          10397|            1039707| ATL|    1410|     0.00|   1400-1459|    1700|     0.00|     0.00|    0.00|  533.00|null|\n",
      "|           1|          2|               9E|               20363|        9E|  N931XJ|             3290|            10874|             1087402|   CAK|          10397|            1039707| ATL|    0557|     0.00|   0600-0659|    0737|     0.00|     0.00|    0.00|  528.00|null|\n",
      "|           1|          2|               9E|               20363|        9E|  N800AY|             3291|            11433|             1143302|   DTW|          11267|            1126702| DAY|    1552|     0.00|   1500-1559|    1738|     1.00|     0.00|    0.00|  166.00|null|\n",
      "|           1|          2|               9E|               20363|        9E|  N927EV|             3292|            13487|             1348702|   MSP|          11267|            1126702| DAY|    2029|     0.00|   2000-2059|    2259|     0.00|     0.00|    0.00|  574.00|null|\n",
      "|           1|          2|               9E|               20363|        9E|  N600LR|             3293|            14100|             1410005|   PHL|          11433|            1143302| DTW|    1312|     0.00|   1300-1359|    1454|     0.00|     0.00|    0.00|  453.00|null|\n",
      "|           1|          2|               9E|               20363|        9E|  N840AY|             3294|            12478|             1247805|   JFK|          14524|            1452401| RIC|    1450|     0.00|   1400-1459|    1637|     0.00|     0.00|    0.00|  288.00|null|\n",
      "|           1|          2|               9E|               20363|        9E|  N232PQ|             3295|            11433|             1143302|   DTW|          11618|            1161802| EWR|    1353|     1.00|   1200-1259|    1521|     1.00|     0.00|    0.00|  488.00|null|\n",
      "|           1|          2|               9E|               20363|        9E|  N8970D|             3296|            10208|             1020803|   AGS|          10397|            1039707| ATL|    1148|     0.00|   1100-1159|    1236|     0.00|     0.00|    0.00|  143.00|null|\n",
      "|           1|          2|               9E|               20363|        9E|  N8970D|             3296|            10397|             1039707|   ATL|          10208|            1020803| AGS|    1020|     0.00|   1000-1059|    1111|     0.00|     0.00|    0.00|  143.00|null|\n",
      "+------------+-----------+-----------------+--------------------+----------+--------+-----------------+-----------------+--------------------+------+---------------+-------------------+----+--------+---------+------------+--------+---------+---------+--------+--------+----+\n",
      "only showing top 20 rows\n",
      "\n"
     ]
    }
   ],
   "source": [
    "df2.show()"
   ]
  },
  {
   "cell_type": "code",
   "execution_count": 41,
   "metadata": {},
   "outputs": [
    {
     "data": {
      "text/plain": [
       "[Row(_c0='DAY_OF_MONTH', _c1='DAY_OF_WEEK', _c2='OP_UNIQUE_CARRIER', _c3='OP_CARRIER_AIRLINE_ID', _c4='OP_CARRIER', _c5='TAIL_NUM', _c6='OP_CARRIER_FL_NUM', _c7='ORIGIN_AIRPORT_ID', _c8='ORIGIN_AIRPORT_SEQ_ID', _c9='ORIGIN', _c10='DEST_AIRPORT_ID', _c11='DEST_AIRPORT_SEQ_ID', _c12='DEST', _c13='DEP_TIME', _c14='DEP_DEL15', _c15='DEP_TIME_BLK', _c16='ARR_TIME', _c17='ARR_DEL15', _c18='CANCELLED', _c19='DIVERTED', _c20='DISTANCE', _c21=None),\n",
       " Row(_c0='1', _c1='2', _c2='9E', _c3='20363', _c4='9E', _c5='N8688C', _c6='3280', _c7='11953', _c8='1195302', _c9='GNV', _c10='10397', _c11='1039707', _c12='ATL', _c13='0601', _c14='0.00', _c15='0600-0659', _c16='0722', _c17='0.00', _c18='0.00', _c19='0.00', _c20='300.00', _c21=None),\n",
       " Row(_c0='1', _c1='2', _c2='9E', _c3='20363', _c4='9E', _c5='N348PQ', _c6='3281', _c7='13487', _c8='1348702', _c9='MSP', _c10='11193', _c11='1119302', _c12='CVG', _c13='1359', _c14='0.00', _c15='1400-1459', _c16='1633', _c17='0.00', _c18='0.00', _c19='0.00', _c20='596.00', _c21=None),\n",
       " Row(_c0='1', _c1='2', _c2='9E', _c3='20363', _c4='9E', _c5='N8896A', _c6='3282', _c7='11433', _c8='1143302', _c9='DTW', _c10='11193', _c11='1119302', _c12='CVG', _c13='1215', _c14='0.00', _c15='1200-1259', _c16='1329', _c17='0.00', _c18='0.00', _c19='0.00', _c20='229.00', _c21=None),\n",
       " Row(_c0='1', _c1='2', _c2='9E', _c3='20363', _c4='9E', _c5='N8886A', _c6='3283', _c7='15249', _c8='1524906', _c9='TLH', _c10='10397', _c11='1039707', _c12='ATL', _c13='1521', _c14='0.00', _c15='1500-1559', _c16='1625', _c17='0.00', _c18='0.00', _c19='0.00', _c20='223.00', _c21=None),\n",
       " Row(_c0='1', _c1='2', _c2='9E', _c3='20363', _c4='9E', _c5='N8974C', _c6='3284', _c7='10397', _c8='1039707', _c9='ATL', _c10='11778', _c11='1177801', _c12='FSM', _c13='1847', _c14='0.00', _c15='1900-1959', _c16='1940', _c17='0.00', _c18='0.00', _c19='0.00', _c20='579.00', _c21=None),\n",
       " Row(_c0='1', _c1='2', _c2='9E', _c3='20363', _c4='9E', _c5='N927EV', _c6='3285', _c7='11267', _c8='1126702', _c9='DAY', _c10='13487', _c11='1348702', _c12='MSP', _c13='0853', _c14='0.00', _c15='0900-0959', _c16='0953', _c17='0.00', _c18='0.00', _c19='0.00', _c20='574.00', _c21=None),\n",
       " Row(_c0='1', _c1='2', _c2='9E', _c3='20363', _c4='9E', _c5='N915XJ', _c6='3286', _c7='12448', _c8='1244807', _c9='JAN', _c10='10397', _c11='1039707', _c12='ATL', _c13='1553', _c14='0.00', _c15='1500-1559', _c16='1832', _c17='0.00', _c18='0.00', _c19='0.00', _c20='341.00', _c21=None),\n",
       " Row(_c0='1', _c1='2', _c2='9E', _c3='20363', _c4='9E', _c5='N295PQ', _c6='3287', _c7='12953', _c8='1295304', _c9='LGA', _c10='11193', _c11='1119302', _c12='CVG', _c13='1551', _c14='0.00', _c15='1500-1559', _c16='1824', _c17='0.00', _c18='0.00', _c19='0.00', _c20='585.00', _c21=None),\n",
       " Row(_c0='1', _c1='2', _c2='9E', _c3='20363', _c4='9E', _c5='N337PQ', _c6='3288', _c7='12451', _c8='1245102', _c9='JAX', _c10='12953', _c11='1295304', _c12='LGA', _c13='1037', _c14='0.00', _c15='1000-1059', _c16='1239', _c17='0.00', _c18='0.00', _c19='0.00', _c20='833.00', _c21=None)]"
      ]
     },
     "execution_count": 41,
     "metadata": {},
     "output_type": "execute_result"
    }
   ],
   "source": [
    "df2.head(10)"
   ]
  },
  {
   "cell_type": "code",
   "execution_count": 43,
   "metadata": {},
   "outputs": [],
   "source": [
    "df2 = df2.withColumnRenamed(\"_c0\",\"Day_of_Month\")"
   ]
  },
  {
   "cell_type": "code",
   "execution_count": 44,
   "metadata": {},
   "outputs": [
    {
     "data": {
      "text/plain": [
       "[Row(Day_of_Month='DAY_OF_MONTH', _c1='DAY_OF_WEEK', _c2='OP_UNIQUE_CARRIER', _c3='OP_CARRIER_AIRLINE_ID', _c4='OP_CARRIER', _c5='TAIL_NUM', _c6='OP_CARRIER_FL_NUM', _c7='ORIGIN_AIRPORT_ID', _c8='ORIGIN_AIRPORT_SEQ_ID', _c9='ORIGIN', _c10='DEST_AIRPORT_ID', _c11='DEST_AIRPORT_SEQ_ID', _c12='DEST', _c13='DEP_TIME', _c14='DEP_DEL15', _c15='DEP_TIME_BLK', _c16='ARR_TIME', _c17='ARR_DEL15', _c18='CANCELLED', _c19='DIVERTED', _c20='DISTANCE', _c21=None),\n",
       " Row(Day_of_Month='1', _c1='2', _c2='9E', _c3='20363', _c4='9E', _c5='N8688C', _c6='3280', _c7='11953', _c8='1195302', _c9='GNV', _c10='10397', _c11='1039707', _c12='ATL', _c13='0601', _c14='0.00', _c15='0600-0659', _c16='0722', _c17='0.00', _c18='0.00', _c19='0.00', _c20='300.00', _c21=None)]"
      ]
     },
     "execution_count": 44,
     "metadata": {},
     "output_type": "execute_result"
    }
   ],
   "source": [
    "df2.head(2)"
   ]
  },
  {
   "cell_type": "code",
   "execution_count": null,
   "metadata": {},
   "outputs": [],
   "source": []
  }
 ],
 "metadata": {
  "kernelspec": {
   "display_name": "Python 3",
   "language": "python",
   "name": "python3"
  },
  "language_info": {
   "codemirror_mode": {
    "name": "ipython",
    "version": 3
   },
   "file_extension": ".py",
   "mimetype": "text/x-python",
   "name": "python",
   "nbconvert_exporter": "python",
   "pygments_lexer": "ipython3",
   "version": "3.7.6"
  }
 },
 "nbformat": 4,
 "nbformat_minor": 4
}
