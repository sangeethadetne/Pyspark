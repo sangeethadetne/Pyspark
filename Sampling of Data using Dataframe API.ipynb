{
 "cells": [
  {
   "cell_type": "code",
   "execution_count": 17,
   "metadata": {},
   "outputs": [],
   "source": [
    "from pyspark.sql import SparkSession\n"
   ]
  },
  {
   "cell_type": "code",
   "execution_count": 24,
   "metadata": {},
   "outputs": [],
   "source": [
    "spark = SparkSession.builder.getOrCreate()\n",
    "data_path = \"/Users/sangeethadetne/Desktop/BigData/SampleData/\"\n",
    "file_path = data_path +\"netflix_titles.csv\""
   ]
  },
  {
   "cell_type": "code",
   "execution_count": 30,
   "metadata": {},
   "outputs": [
    {
     "name": "stdout",
     "output_type": "stream",
     "text": [
      "+--------+-------+--------------------+--------------------+--------------------+--------------------+-----------------+------------+--------+--------+--------------------+--------------------+\n",
      "| show_id|   type|               title|            director|                cast|             country|       date_added|release_year|  rating|duration|           listed_in|         description|\n",
      "+--------+-------+--------------------+--------------------+--------------------+--------------------+-----------------+------------+--------+--------+--------------------+--------------------+\n",
      "|81145628|  Movie|Norm of the North...|Richard Finn, Tim...|Alan Marriott, An...|United States, In...|September 9, 2019|        2019|   TV-PG|  90 min|Children & Family...|Before planning a...|\n",
      "|80117401|  Movie|Jandino: Whatever...|                null|    Jandino Asporaat|      United Kingdom|September 9, 2016|        2016|   TV-MA|  94 min|     Stand-Up Comedy|\"Jandino Asporaat...|\n",
      "|70234439|TV Show|  Transformers Prime|                null|Peter Cullen, Sum...|       United States|September 8, 2018|        2013|TV-Y7-FV|1 Season|            Kids' TV|With the help of ...|\n",
      "|80058654|TV Show|Transformers: Rob...|                null|Will Friedle, Dar...|       United States|September 8, 2018|        2016|   TV-Y7|1 Season|            Kids' TV|When a prison shi...|\n",
      "|80125979|  Movie|        #realityhigh|    Fernando Lebrija|Nesta Cooper, Kat...|       United States|September 8, 2017|        2017|   TV-14|  99 min|            Comedies|When nerdy high s...|\n",
      "|80163890|TV Show|             Apaches|                null|Alberto Ammann, E...|               Spain|September 8, 2017|        2016|   TV-MA|1 Season|Crime TV Shows, I...|A young journalis...|\n",
      "|70304989|  Movie|            Automata|         Gabe Ibáñez|Antonio Banderas,...|Bulgaria, United ...|September 8, 2017|        2014|       R| 110 min|International Mov...|In a dystopian fu...|\n",
      "|80164077|  Movie|Fabrizio Copano: ...|Rodrigo Toro, Fra...|     Fabrizio Copano|               Chile|September 8, 2017|        2017|   TV-MA|  60 min|     Stand-Up Comedy|Fabrizio Copano t...|\n",
      "|80117902|TV Show|        Fire Chasers|                null|                null|       United States|September 8, 2017|        2017|   TV-MA|1 Season|Docuseries, Scien...|As California's 2...|\n",
      "|70304990|  Movie|         Good People|   Henrik Ruben Genz|James Franco, Kat...|United States, Un...|September 8, 2017|        2014|       R|  90 min|Action & Adventur...|A struggling coup...|\n",
      "|80169755|  Movie|Joaquín Reyes: Un...|José Miguel Contr...|       Joaquín Reyes|                null|September 8, 2017|        2017|   TV-MA|  78 min|     Stand-Up Comedy|Comedian and cele...|\n",
      "|70299204|  Movie|Kidnapping Mr. He...|    Daniel Alfredson|Jim Sturgess, Sam...|Netherlands, Belg...|September 8, 2017|        2015|       R|  95 min|Action & Adventur...|\"When beer magnat...|\n",
      "|80182480|  Movie|Krish Trish and B...|                null|Damandeep Singh B...|                null|September 8, 2017|        2009|   TV-Y7|  58 min|Children & Family...|A team of minstre...|\n",
      "|80182483|  Movie|Krish Trish and B...|Munjal Shroff, Ti...|Damandeep Singh B...|                null|September 8, 2017|        2013|   TV-Y7|  62 min|Children & Family...|An artisan is che...|\n",
      "|80182596|  Movie|Krish Trish and B...|Munjal Shroff, Ti...|Damandeep Singh B...|                null|September 8, 2017|        2016|    TV-Y|  65 min|Children & Family...|A cat, monkey and...|\n",
      "|80182482|  Movie|Krish Trish and B...|        Tilak Shetty|Damandeep Singh B...|                null|September 8, 2017|        2012|   TV-Y7|  61 min|Children & Family...|In three comic-st...|\n",
      "|80182597|  Movie|Krish Trish and B...|        Tilak Shetty|Rishi Gambhir, Sm...|                null|September 8, 2017|        2017|   TV-Y7|  65 min|Children & Family...|A cat, monkey and...|\n",
      "|80182481|  Movie|Krish Trish and B...|                null|Damandeep Singh B...|                null|September 8, 2017|        2010|   TV-Y7|  58 min|Children & Family...|Animal minstrels ...|\n",
      "|80182621|  Movie|Krish Trish and B...|Munjal Shroff, Ti...|Damandeep Singh B...|                null|September 8, 2017|        2013|   TV-Y7|  60 min|Children & Family...|The consequences ...|\n",
      "|80057969|  Movie|                Love|          Gaspar Noé|Karl Glusman, Kla...|     France, Belgium|September 8, 2017|        2015|      NR| 135 min|Cult Movies, Dram...|A man in an unsat...|\n",
      "+--------+-------+--------------------+--------------------+--------------------+--------------------+-----------------+------------+--------+--------+--------------------+--------------------+\n",
      "only showing top 20 rows\n",
      "\n"
     ]
    }
   ],
   "source": [
    "df1 = spark.read.load(file_path,format = \"csv\",inferSchema=\"true\",header = \"true\")\n",
    "df1.columns \n",
    "df1.show()"
   ]
  },
  {
   "cell_type": "code",
   "execution_count": 71,
   "metadata": {},
   "outputs": [
    {
     "name": "stdout",
     "output_type": "stream",
     "text": [
      "+--------+-------+--------------------+--------------------+--------------------+--------------------+------------------+------------+------+--------+--------------------+--------------------+\n",
      "| show_id|   type|               title|            director|                cast|             country|        date_added|release_year|rating|duration|           listed_in|         description|\n",
      "+--------+-------+--------------------+--------------------+--------------------+--------------------+------------------+------------+------+--------+--------------------+--------------------+\n",
      "|81145628|  Movie|Norm of the North...|Richard Finn, Tim...|Alan Marriott, An...|United States, In...| September 9, 2019|        2019| TV-PG|  90 min|Children & Family...|Before planning a...|\n",
      "|80169755|  Movie|Joaquín Reyes: Un...|José Miguel Contr...|       Joaquín Reyes|                null| September 8, 2017|        2017| TV-MA|  78 min|     Stand-Up Comedy|Comedian and cele...|\n",
      "|80182483|  Movie|Krish Trish and B...|Munjal Shroff, Ti...|Damandeep Singh B...|                null| September 8, 2017|        2013| TV-Y7|  62 min|Children & Family...|An artisan is che...|\n",
      "|80182596|  Movie|Krish Trish and B...|Munjal Shroff, Ti...|Damandeep Singh B...|                null| September 8, 2017|        2016|  TV-Y|  65 min|Children & Family...|A cat, monkey and...|\n",
      "|80057969|  Movie|                Love|          Gaspar Noé|Karl Glusman, Kla...|     France, Belgium| September 8, 2017|        2015|    NR| 135 min|Cult Movies, Dram...|A man in an unsat...|\n",
      "|80203094|  Movie|         City of Joy|     Madeleine Gavin|                null|      United States,| September 7, 2018|        2018| TV-MA|  77 min|       Documentaries|Women who've been...|\n",
      "|80152447|  Movie|      Cézanne et moi|    Daniele Thompson|Guillaume Canet, ...|     Belgium, France| September 7, 2017|        2016|     R| 114 min|Dramas, Independe...|This historical d...|\n",
      "|81154455|  Movie|          Article 15|       Anubhav Sinha|Ayushmann Khurran...|               India| September 6, 2019|        2019| TV-MA| 125 min|Dramas, Internati...|The grim realitie...|\n",
      "|81016045|  Movie|             One Day|Banjong Pisanthan...|Chantavit Dhanase...|            Thailand| September 5, 2018|        2016| TV-PG| 135 min|Dramas, Internati...|When his colleagu...|\n",
      "|81053893|  Movie|Cultivating the S...|         Mana Yasuda|                null|                null|September 28, 2019|        2019|  TV-G|  45 min|Documentaries, In...|An in-depth look ...|\n",
      "|80157072|  Movie|       Hold the Dark|     Jeremy Saulnier|Jeffrey Wright, A...|       United States|September 28, 2018|        2018| TV-MA| 126 min|Action & Adventur...|In the grim Alask...|\n",
      "|80220715|TV Show|            Skylines|                null|Edin Hasanovic, P...|                null|September 27, 2019|        2019| TV-MA|1 Season|Crime TV Shows, I...|A hip-hop produce...|\n",
      "|60003155|  Movie|Joseph: King of D...|Rob LaDuca, Rober...|Ben Affleck, Mark...|       United States|September 27, 2011|        2000| TV-PG|  75 min|Children & Family...|With his gift of ...|\n",
      "|80166318|  Movie|               Leap!|Eric Summer, Éric...|Bronwen Mantel, M...|      France, Canada|September 25, 2019|        2016|    PG|  89 min|Children & Family...|Félicie and Victo...|\n",
      "|70304191|  Movie| Swearnet: The Movie|    Warren P. Sonoda|Mike Smith, John ...|              Canada|September 24, 2017|        2014|    NR| 112 min|Comedies, Interna...|After losing a TV...|\n",
      "|80097321|  Movie|      Audrie & Daisy|Bonni Cohen, Jon ...|                null|       United States|September 23, 2016|        2016| TV-14|  99 min|       Documentaries|In this wrenching...|\n",
      "|80214464|  Movie|Rafinha Bastos: U...|                null|      Rafinha Bastos|              Brazil|September 21, 2018|        2018| TV-MA|  63 min|     Stand-Up Comedy|An off-color joke...|\n",
      "|80244627|TV Show|Two Sentence Horr...|                null|Nicole Kang, Jim ...|       United States|September 20, 2019|        2019| TV-14|1 Season|TV Horror, Teen T...|This anthology se...|\n",
      "|80131374|  Movie|Katarzyna Piaseck...|                null|Katarzyna Piaseck...|                null|September 19, 2016|        2016| TV-MA|  65 min|     Stand-Up Comedy|Polish comedians ...|\n",
      "|80058248|  Movie|          I Am Wrath|       Chuck Russell|John Travolta, Ch...|       United States|September 16, 2019|        2016|     R|  91 min|Action & Adventur...|Hell-bent on aven...|\n",
      "+--------+-------+--------------------+--------------------+--------------------+--------------------+------------------+------------+------+--------+--------------------+--------------------+\n",
      "only showing top 20 rows\n",
      "\n"
     ]
    }
   ],
   "source": [
    "df1_sample = df1.sample(fraction = 0.1,withReplacement= False)\n",
    "df1_sample.show()"
   ]
  },
  {
   "cell_type": "code",
   "execution_count": 72,
   "metadata": {},
   "outputs": [
    {
     "name": "stdout",
     "output_type": "stream",
     "text": [
      "+--------------------+-------------+\n",
      "|               title|max(duration)|\n",
      "+--------------------+-------------+\n",
      "|                null|         null|\n",
      "|\"Behind \"\"The Cov...|      105 min|\n",
      "|\"Gabriel \"\"Fluffy...|       91 min|\n",
      "|             #Selfie|      125 min|\n",
      "|     1000 Rupee Note|       89 min|\n",
      "|             13 Sins|       93 min|\n",
      "|                13TH|      101 min|\n",
      "|          14 Cameras|       89 min|\n",
      "|                  21|      123 min|\n",
      "|           21 & Over|       93 min|\n",
      "|21 Sarfarosh: Sar...|     1 Season|\n",
      "|         3 Deewarein|      121 min|\n",
      "|          3 Heroines|      124 min|\n",
      "|              45 rpm|     1 Season|\n",
      "|              5 to 7|       97 min|\n",
      "|72 Dangerous Anim...|     1 Season|\n",
      "|        A 2nd Chance|       95 min|\n",
      "|     A Family Affair|      111 min|\n",
      "|   A House of Blocks|     1 Season|\n",
      "|    A Man Called God|     1 Season|\n",
      "+--------------------+-------------+\n",
      "only showing top 20 rows\n",
      "\n"
     ]
    }
   ],
   "source": [
    "df_sample = df1_sample.groupBy(\"title\").agg({\"duration\":\"max\"}).orderBy(\"title\").show()"
   ]
  },
  {
   "cell_type": "code",
   "execution_count": 68,
   "metadata": {},
   "outputs": [
    {
     "name": "stdout",
     "output_type": "stream",
     "text": [
      "+--------------------+--------------------+\n",
      "|               title|       max(duration)|\n",
      "+--------------------+--------------------+\n",
      "|                null|This documentary ...|\n",
      "|\"Behind \"\"The Cov...|             105 min|\n",
      "|\"Escape from the ...|              88 min|\n",
      "|\"Gabriel \"\"Fluffy...|              91 min|\n",
      "|               #Roxy|             105 min|\n",
      "|           #Rucker50|              56 min|\n",
      "|             #Selfie|             125 min|\n",
      "|          #Selfie 69|             119 min|\n",
      "|        #realityhigh|              99 min|\n",
      "|                 '89|              87 min|\n",
      "|            (T)ERROR|              84 min|\n",
      "|    1 Chance 2 Dance|              89 min|\n",
      "|       1 Mile to You|             105 min|\n",
      "| 10 Days in Sun City|              87 min|\n",
      "|      10 jours en or|              97 min|\n",
      "|         10,000 B.C.|             109 min|\n",
      "|100 Days Of Solitude|              93 min|\n",
      "|          100 Meters|             109 min|\n",
      "|100 Things to do ...|              44 min|\n",
      "|100 Years: One Wo...|              75 min|\n",
      "+--------------------+--------------------+\n",
      "only showing top 20 rows\n",
      "\n"
     ]
    }
   ],
   "source": [
    "df1.groupBy(\"title\").agg({\"duration\":\"max\"}).orderBy(\"title\").show()\n"
   ]
  },
  {
   "cell_type": "code",
   "execution_count": 66,
   "metadata": {},
   "outputs": [
    {
     "name": "stdout",
     "output_type": "stream",
     "text": [
      "root\n",
      " |-- show_id: string (nullable = true)\n",
      " |-- type: string (nullable = true)\n",
      " |-- title: string (nullable = true)\n",
      " |-- director: string (nullable = true)\n",
      " |-- cast: string (nullable = true)\n",
      " |-- country: string (nullable = true)\n",
      " |-- date_added: string (nullable = true)\n",
      " |-- release_year: string (nullable = true)\n",
      " |-- rating: string (nullable = true)\n",
      " |-- duration: string (nullable = true)\n",
      " |-- listed_in: string (nullable = true)\n",
      " |-- description: string (nullable = true)\n",
      "\n"
     ]
    }
   ],
   "source": [
    "df1.printSchema()"
   ]
  },
  {
   "cell_type": "code",
   "execution_count": 76,
   "metadata": {},
   "outputs": [],
   "source": [
    "df1_sample.write.csv(\"df_sample.csv\")"
   ]
  },
  {
   "cell_type": "markdown",
   "metadata": {},
   "source": [
    "To see the list of file  in linux command shell use \"!\" mark "
   ]
  },
  {
   "cell_type": "code",
   "execution_count": 77,
   "metadata": {},
   "outputs": [
    {
     "name": "stdout",
     "output_type": "stream",
     "text": [
      "_SUCCESS\r\n",
      "part-00000-dd401476-22e8-4f2e-a66a-0ebbe6ff546f-c000.csv\r\n"
     ]
    }
   ],
   "source": [
    "!ls df_sample.csv"
   ]
  },
  {
   "cell_type": "markdown",
   "metadata": {},
   "source": [
    "To see the no of lines the file "
   ]
  },
  {
   "cell_type": "code",
   "execution_count": 79,
   "metadata": {},
   "outputs": [
    {
     "name": "stdout",
     "output_type": "stream",
     "text": [
      "     627 df_sample.csv/part-00000-dd401476-22e8-4f2e-a66a-0ebbe6ff546f-c000.csv\r\n"
     ]
    }
   ],
   "source": [
    "!wc -l df_sample.csv/part-00000-dd401476-22e8-4f2e-a66a-0ebbe6ff546f-c000.csv"
   ]
  },
  {
   "cell_type": "code",
   "execution_count": 81,
   "metadata": {},
   "outputs": [],
   "source": [
    "df1_sample.write.json(\"df_sample_json.json\")"
   ]
  },
  {
   "cell_type": "code",
   "execution_count": 83,
   "metadata": {},
   "outputs": [
    {
     "name": "stdout",
     "output_type": "stream",
     "text": [
      "_SUCCESS\r\n",
      "part-00000-7098f6fa-b1d7-46a3-88a7-af6fb968af6e-c000.json\r\n"
     ]
    }
   ],
   "source": [
    "!ls df_sample_json.json"
   ]
  },
  {
   "cell_type": "code",
   "execution_count": 84,
   "metadata": {},
   "outputs": [
    {
     "name": "stdout",
     "output_type": "stream",
     "text": [
      "head: -: No such file or directory\r\n",
      "head: 10: No such file or directory\r\n",
      "==> df_sample_json.json/part-00000-7098f6fa-b1d7-46a3-88a7-af6fb968af6e-c000.json <==\r\n",
      "{\"show_id\":\"81145628\",\"type\":\"Movie\",\"title\":\"Norm of the North: King Sized Adventure\",\"director\":\"Richard Finn, Tim Maltby\",\"cast\":\"Alan Marriott, Andrew Toth, Brian Dobson, Cole Howard, Jennifer Cameron, Jonathan Holmes, Lee Tockar, Lisa Durupt, Maya Kay, Michael Dobson\",\"country\":\"United States, India, South Korea, China\",\"date_added\":\"September 9, 2019\",\"release_year\":\"2019\",\"rating\":\"TV-PG\",\"duration\":\"90 min\",\"listed_in\":\"Children & Family Movies, Comedies\",\"description\":\"Before planning an awesome wedding for his grandfather, a polar bear king must take back a stolen artifact from an evil archaeologist first.\"}\r\n",
      "{\"show_id\":\"80169755\",\"type\":\"Movie\",\"title\":\"Joaquín Reyes: Una y no más\",\"director\":\"José Miguel Contreras\",\"cast\":\"Joaquín Reyes\",\"date_added\":\"September 8, 2017\",\"release_year\":\"2017\",\"rating\":\"TV-MA\",\"duration\":\"78 min\",\"listed_in\":\"Stand-Up Comedy\",\"description\":\"Comedian and celebrity impersonator Joaquín Reyes decides to be his zesty self for a night of stories about buses, bathroom habits, royalty and more.\"}\r\n",
      "{\"show_id\":\"80182483\",\"type\":\"Movie\",\"title\":\"Krish Trish and Baltiboy: Battle of Wits\",\"director\":\"Munjal Shroff, Tilak Shetty\",\"cast\":\"Damandeep Singh Baggan, Smita Malhotra, Baba Sehgal, Deepak Chachra\",\"date_added\":\"September 8, 2017\",\"release_year\":\"2013\",\"rating\":\"TV-Y7\",\"duration\":\"62 min\",\"listed_in\":\"Children & Family Movies\",\"description\":\"An artisan is cheated of his payment, a lion of his throne and a brother of his inheritance in these three stories of deception and justice.\"}\r\n",
      "{\"show_id\":\"80182596\",\"type\":\"Movie\",\"title\":\"Krish Trish and Baltiboy: Best Friends Forever\",\"director\":\"Munjal Shroff, Tilak Shetty\",\"cast\":\"Damandeep Singh Baggan, Smita Malhotra, Deepak Chachra\",\"date_added\":\"September 8, 2017\",\"release_year\":\"2016\",\"rating\":\"TV-Y\",\"duration\":\"65 min\",\"listed_in\":\"Children & Family Movies\",\"description\":\"A cat, monkey and donkey team up to narrate folktales about friendship from Northeast India, and the Indian regions of Bihar and Rajasthan.\"}\r\n",
      "{\"show_id\":\"80057969\",\"type\":\"Movie\",\"title\":\"Love\",\"director\":\"Gaspar Noé\",\"cast\":\"Karl Glusman, Klara Kristin, Aomi Muyock, Ugo Fox, Juan Saavedra, Gaspar Noé, Isabelle Nicou, Benoît Debie, Vincent Maraval, Déborah Révy\",\"country\":\"France, Belgium\",\"date_added\":\"September 8, 2017\",\"release_year\":\"2015\",\"rating\":\"NR\",\"duration\":\"135 min\",\"listed_in\":\"Cult Movies, Dramas, Independent Movies\",\"description\":\"A man in an unsatisfying marriage recalls the details of an intense past relationship with an ex-girlfriend when he gets word that she may be missing.\"}\r\n",
      "{\"show_id\":\"80203094\",\"type\":\"Movie\",\"title\":\"City of Joy\",\"director\":\"Madeleine Gavin\",\"country\":\"United States,\",\"date_added\":\"September 7, 2018\",\"release_year\":\"2018\",\"rating\":\"TV-MA\",\"duration\":\"77 min\",\"listed_in\":\"Documentaries\",\"description\":\"Women who've been sexually brutalized in war-torn Congo begin to heal at City of Joy, a center that helps them regain a sense of self and empowerment.\"}\r\n",
      "{\"show_id\":\"80152447\",\"type\":\"Movie\",\"title\":\"Cézanne et moi\",\"director\":\"Daniele Thompson\",\"cast\":\"Guillaume Canet, Guillaume Gallienne, Alice Pol, Déborah François, Sabine Azéma, Freya Mavor, Isabelle Candelier, Laurent Stocker\",\"country\":\"Belgium, France\",\"date_added\":\"September 7, 2017\",\"release_year\":\"2016\",\"rating\":\"R\",\"duration\":\"114 min\",\"listed_in\":\"Dramas, Independent Movies, International Movies\",\"description\":\"This historical drama explores the long and often volatile friendship of painter Paul Cézanne and writer Émile Zola, who first met as schoolboys.\"}\r\n",
      "{\"show_id\":\"81154455\",\"type\":\"Movie\",\"title\":\"Article 15\",\"director\":\"Anubhav Sinha\",\"cast\":\"Ayushmann Khurrana, Nassar, Manoj Pahwa, Kumud Mishra, Isha Talwar, Sayani Gupta, Mohammed Zeeshan Ayyub, Subhrajyoti Barat, Sushil Pandey, Aakash Dabhade\",\"country\":\"India\",\"date_added\":\"September 6, 2019\",\"release_year\":\"2019\",\"rating\":\"TV-MA\",\"duration\":\"125 min\",\"listed_in\":\"Dramas, International Movies, Thrillers\",\"description\":\"The grim realities of caste discrimination come to light as an entitled but upright city cop ventures into India’s heartland to investigate a murder.\"}\r\n",
      "{\"show_id\":\"81016045\",\"type\":\"Movie\",\"title\":\"One Day\",\"director\":\"Banjong Pisanthanakun\",\"cast\":\"Chantavit Dhanasevi, Nittha Jirayungyurn, Theerapat Sajakul, Prim Bulakul, Kris Srepoomseth, Somyos Matures, Sutthatip Wutichaipradit, Rermthon Kemapech, Kaz Sawamura\",\"country\":\"Thailand\",\"date_added\":\"September 5, 2018\",\"release_year\":\"2016\",\"rating\":\"TV-PG\",\"duration\":\"135 min\",\"listed_in\":\"Dramas, International Movies, Romantic Movies\",\"description\":\"When his colleague (and crush) temporarily loses her memory, an overlooked geek seizes the chance to make an impression before she remembers again.\"}\r\n",
      "{\"show_id\":\"81053893\",\"type\":\"Movie\",\"title\":\"Cultivating the Seas: History and Future of the Full-Cycle Cultured Kindai Tuna\",\"director\":\"Mana Yasuda\",\"date_added\":\"September 28, 2019\",\"release_year\":\"2019\",\"rating\":\"TV-G\",\"duration\":\"45 min\",\"listed_in\":\"Documentaries, International Movies\",\"description\":\"An in-depth look at the full-cycle breeding program for bluefin Kindai tuna pioneered by Kinki University’s Aqua Culture Research Institute.\"}\r\n"
     ]
    }
   ],
   "source": [
    "!head - 10 df_sample_json.json/part-00000-7098f6fa-b1d7-46a3-88a7-af6fb968af6e-c000.json"
   ]
  },
  {
   "cell_type": "code",
   "execution_count": null,
   "metadata": {},
   "outputs": [],
   "source": []
  }
 ],
 "metadata": {
  "kernelspec": {
   "display_name": "Python 3",
   "language": "python",
   "name": "python3"
  },
  "language_info": {
   "codemirror_mode": {
    "name": "ipython",
    "version": 3
   },
   "file_extension": ".py",
   "mimetype": "text/x-python",
   "name": "python",
   "nbconvert_exporter": "python",
   "pygments_lexer": "ipython3",
   "version": "3.7.6"
  }
 },
 "nbformat": 4,
 "nbformat_minor": 4
}
